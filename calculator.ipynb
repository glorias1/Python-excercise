{
 "cells": [
  {
   "cell_type": "code",
   "execution_count": 17,
   "metadata": {},
   "outputs": [],
   "source": [
    "from modules import addition, subtraction, multiplication, division\n",
    "\n",
    "e = input('Input your equation: ')"
   ]
  },
  {
   "cell_type": "code",
   "execution_count": 18,
   "metadata": {},
   "outputs": [],
   "source": [
    "import re\n",
    "def split_expression(expression):\n",
    "    # Define a regular expression pattern to match \"integer-operator-integer\"\n",
    "    pattern = r'(\\d+)\\s*([\\+\\-\\*/])\\s*(\\d+)'\n",
    "    match = re.match(pattern, expression)\n",
    "    if match:\n",
    "        first_int = int(match.group(1))\n",
    "        operator = match.group(2)\n",
    "        second_int = int(match.group(3))\n",
    "        return [first_int, operator, second_int]\n",
    "    else:\n",
    "        raise ValueError(\"Expression format is invalid\")"
   ]
  },
  {
   "cell_type": "code",
   "execution_count": 19,
   "metadata": {},
   "outputs": [],
   "source": [
    "equation = split_expression(e)"
   ]
  },
  {
   "cell_type": "code",
   "execution_count": 20,
   "metadata": {},
   "outputs": [
    {
     "name": "stdout",
     "output_type": "stream",
     "text": [
      "[1, '+', 1]\n"
     ]
    }
   ],
   "source": [
    "print(equation)"
   ]
  },
  {
   "cell_type": "code",
   "execution_count": 22,
   "metadata": {},
   "outputs": [
    {
     "name": "stdout",
     "output_type": "stream",
     "text": [
      "Answer is  2\n"
     ]
    }
   ],
   "source": [
    "if equation[1] == '+':\n",
    "    print(\"Answer is \", addition.addition(int(equation[0]), int(equation[2])))\n",
    "if equation[1] == '-':\n",
    "    print(\"Answer is \", subtraction.subtraction(int(equation[0]), int(equation[2])))\n",
    "if equation[1] == '*':\n",
    "    print(\"Answer is \", multiplication.multiplication(int(equation[0]), int(equation[2])))\n",
    "if equation[1] == '/*':\n",
    "    print(\"Answer is \", division.division(int(equation[0]), int(equation[2])))"
   ]
  },
  {
   "cell_type": "code",
   "execution_count": null,
   "metadata": {},
   "outputs": [],
   "source": []
  }
 ],
 "metadata": {
  "kernelspec": {
   "display_name": "Python 3",
   "language": "python",
   "name": "python3"
  },
  "language_info": {
   "codemirror_mode": {
    "name": "ipython",
    "version": 3
   },
   "file_extension": ".py",
   "mimetype": "text/x-python",
   "name": "python",
   "nbconvert_exporter": "python",
   "pygments_lexer": "ipython3",
   "version": "3.13.1"
  }
 },
 "nbformat": 4,
 "nbformat_minor": 2
}
