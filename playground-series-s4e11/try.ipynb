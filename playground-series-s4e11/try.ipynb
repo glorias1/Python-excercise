{
 "cells": [
  {
   "cell_type": "code",
   "execution_count": 27,
   "metadata": {},
   "outputs": [
    {
     "name": "stdout",
     "output_type": "stream",
     "text": [
      "Index(['id', 'Name', 'Gender', 'Age', 'City',\n",
      "       'Working Professional or Student', 'Profession', 'Academic Pressure',\n",
      "       'Work Pressure', 'CGPA', 'Study Satisfaction', 'Job Satisfaction',\n",
      "       'Sleep Duration', 'Dietary Habits', 'Degree',\n",
      "       'Have you ever had suicidal thoughts ?', 'Work/Study Hours',\n",
      "       'Financial Stress', 'Family History of Mental Illness', 'Depression'],\n",
      "      dtype='object')\n"
     ]
    }
   ],
   "source": [
    "import pandas as pd\n",
    "import numpy as np\n",
    "\n",
    "\n",
    "df = pd.read_csv('C:\\\\Users\\\\V_CGloria\\\\Downloads\\\\playground-series-s4e11\\\\train.csv')\n",
    "print(df.columns)"
   ]
  },
  {
   "cell_type": "code",
   "execution_count": 28,
   "metadata": {},
   "outputs": [
    {
     "data": {
      "text/plain": [
       "Depression\n",
       "0    115133\n",
       "1     25567\n",
       "Name: count, dtype: int64"
      ]
     },
     "execution_count": 28,
     "metadata": {},
     "output_type": "execute_result"
    }
   ],
   "source": [
    "df['Depression'] = df['Depression'].astype(int)\n",
    "df['Depression'].value_counts()"
   ]
  },
  {
   "cell_type": "code",
   "execution_count": 29,
   "metadata": {},
   "outputs": [],
   "source": [
    "df['Have you ever had suicidal thoughts ?'] = df['Have you ever had suicidal thoughts ?'].map({'Yes': 1, 'No': 0})\n",
    "df['Working Professional or Student'] = df['Working Professional or Student'].map({'Working Professional':1, 'Student': 2})\n",
    "df['Family History of Mental Illness'] = df['Family History of Mental Illness'].map({'Yes': 1, 'No': 0})\n",
    "df['Gender'] = df['Gender'].map({'Female': 1, 'Male': 2})\n",
    "df['Dietary Habits'] = df['Dietary Habits'].map({'Healthy': 1, 'Unhealthy': 0})\n"
   ]
  },
  {
   "cell_type": "code",
   "execution_count": null,
   "metadata": {},
   "outputs": [],
   "source": [
    "\n",
    "# Index(['id', 'Name', 'Gender', 'Age', 'City',\n",
    "#        'Working Professional or Student', 'Profession', 'Academic Pressure',\n",
    "#        'Work Pressure', 'CGPA', 'Study Satisfaction', 'Job Satisfaction',\n",
    "#        'Sleep Duration', 'Dietary Habits', 'Degree',\n",
    "#        'Have you ever had suicidal thoughts ?', 'Work/Study Hours',\n",
    "#        'Financial Stress', 'Family History of Mental Illness', 'Depression'],\n",
    "#       dtype='object')\n",
    "\n"
   ]
  },
  {
   "cell_type": "code",
   "execution_count": null,
   "metadata": {},
   "outputs": [],
   "source": []
  }
 ],
 "metadata": {
  "kernelspec": {
   "display_name": "Python 3",
   "language": "python",
   "name": "python3"
  },
  "language_info": {
   "codemirror_mode": {
    "name": "ipython",
    "version": 3
   },
   "file_extension": ".py",
   "mimetype": "text/x-python",
   "name": "python",
   "nbconvert_exporter": "python",
   "pygments_lexer": "ipython3",
   "version": "3.13.1"
  }
 },
 "nbformat": 4,
 "nbformat_minor": 2
}
