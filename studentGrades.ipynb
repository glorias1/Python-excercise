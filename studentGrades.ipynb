{
 "cells": [
  {
   "cell_type": "code",
   "execution_count": 4,
   "metadata": {},
   "outputs": [],
   "source": [
    "class StudentGrades:\n",
    "    def __init__(self):\n",
    "        self.student_data = {}\n",
    "    \n",
    "    def add_grade(self, student_name, grade):\n",
    "        if student_name in self.student_data:\n",
    "            self.student_data[student_name].append(grade)\n",
    "        else:\n",
    "            self.student_data[student_name] = [grade]\n",
    "    \n",
    "    def calculate_average_graded(self, student_name):\n",
    "        grades = self.student_data.get(student_name)\n",
    "        if grades:\n",
    "            average_grade = sum(grades)/len(grades)\n",
    "            return average_grade\n",
    "        else:\n",
    "            return None\n",
    "\n",
    "    def display_student_data(self):\n",
    "        for student, grades in self.student_data.items():\n",
    "            average_grade = self.calculate_average_graded(student)\n",
    "            print(f\"{student}: {average_grade}\")"
   ]
  },
  {
   "cell_type": "code",
   "execution_count": 5,
   "metadata": {},
   "outputs": [
    {
     "name": "stdout",
     "output_type": "stream",
     "text": [
      "Alice: 90.5\n",
      "Tom: 56.0\n",
      "Kevin: 90.0\n"
     ]
    }
   ],
   "source": [
    "a = StudentGrades()\n",
    "a.add_grade('Alice', 92)\n",
    "a.add_grade('Alice', 89)\n",
    "a.add_grade('Tom', 56)\n",
    "a.add_grade('Kevin', 90)\n",
    "\n",
    "a.display_student_data()"
   ]
  },
  {
   "cell_type": "code",
   "execution_count": null,
   "metadata": {},
   "outputs": [],
   "source": []
  }
 ],
 "metadata": {
  "kernelspec": {
   "display_name": "Python 3",
   "language": "python",
   "name": "python3"
  },
  "language_info": {
   "codemirror_mode": {
    "name": "ipython",
    "version": 3
   },
   "file_extension": ".py",
   "mimetype": "text/x-python",
   "name": "python",
   "nbconvert_exporter": "python",
   "pygments_lexer": "ipython3",
   "version": "3.13.1"
  }
 },
 "nbformat": 4,
 "nbformat_minor": 2
}
